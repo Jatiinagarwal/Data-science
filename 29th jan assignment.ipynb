{
 "cells": [
  {
   "cell_type": "markdown",
   "id": "5a38ab4d-be08-4082-a325-b3c8ad306c2c",
   "metadata": {},
   "source": [
    "# assignment"
   ]
  },
  {
   "cell_type": "code",
   "execution_count": 21,
   "id": "300b62c8-30e5-4222-9433-00694bd2133e",
   "metadata": {},
   "outputs": [],
   "source": [
    "#1 #Guido van Rossum"
   ]
  },
  {
   "cell_type": "code",
   "execution_count": 23,
   "id": "d6450d85-3a32-4d51-8d5e-419d796a4320",
   "metadata": {},
   "outputs": [],
   "source": [
    "#When he began implementing Python, Guido van Rossum was also reading the published scripts from “Monty Python's Flying Circus”, a BBC comedy series from the 1970s. Van Rossum thought he needed a name that was short, unique, and slightly mysterious, so he decided to call the language Python"
   ]
  },
  {
   "cell_type": "code",
   "execution_count": 24,
   "id": "5714745c-d897-47e4-aab2-f460fe340073",
   "metadata": {},
   "outputs": [],
   "source": [
    "#2 #Python is a multi-paradigm programming language. Object-oriented programming and structured programming are fully supported, and many of their features support functional programming and aspect-oriented programming (including metaprogramming and metaobjects)."
   ]
  },
  {
   "cell_type": "code",
   "execution_count": 25,
   "id": "72458e47-794a-4657-9d63-0d3cd79224cb",
   "metadata": {},
   "outputs": [],
   "source": [
    "#3 #Yes, Python is a case−sensitive programming language. This means that it considers uppercase and lowercase letters differently"
   ]
  },
  {
   "cell_type": "code",
   "execution_count": 26,
   "id": "1bc4254e-e029-42ef-b66c-c1418ac8e05d",
   "metadata": {},
   "outputs": [],
   "source": [
    "#4 #pyc files. . pyc: This is the file extension for compiled Python code files"
   ]
  },
  {
   "cell_type": "code",
   "execution_count": 27,
   "id": "d0dd5b99-ba72-448a-926b-736cce3bde48",
   "metadata": {},
   "outputs": [],
   "source": [
    "#5 #Python is an interpreted language, which means the source code of a Python program is converted into bytecode that is then executed by the Python virtual machine. Python is different from major compiled languages, such as C and C + +, as Python code is not required to be built and linked like code for these languages."
   ]
  },
  {
   "cell_type": "code",
   "execution_count": 28,
   "id": "367b08d1-d6e8-4d73-8533-c0ed4d1e57ee",
   "metadata": {},
   "outputs": [],
   "source": [
    "#6 #Structure of a program. A Python program is constructed from code blocks. A block is a piece of Python program text that is executed as a unit. The following are blocks: a module, a function body, and a class definition."
   ]
  },
  {
   "cell_type": "code",
   "execution_count": 29,
   "id": "f69701fa-eb8f-4fbb-a7b7-5ef214918523",
   "metadata": {},
   "outputs": [],
   "source": [
    "#7 #We can write a single-line comment by adding a single # character before any statement or line of code"
   ]
  },
  {
   "cell_type": "code",
   "execution_count": 30,
   "id": "4aa4b5eb-c23d-48bf-b690-cf022c3734a5",
   "metadata": {},
   "outputs": [],
   "source": [
    "#8 #sys. version can help us to find the version of python that we are currently working on"
   ]
  },
  {
   "cell_type": "code",
   "execution_count": 31,
   "id": "58409599-419f-44eb-8be9-9d3aa14b9a6e",
   "metadata": {},
   "outputs": [],
   "source": [
    "#9 #Python supports the creation of anonymous functions (i.e. functions that are not bound to a name) at runtime, using a construct called lambda"
   ]
  },
  {
   "cell_type": "code",
   "execution_count": 32,
   "id": "bcbb69c2-e287-4f9c-a9c6-7787c8190047",
   "metadata": {},
   "outputs": [],
   "source": [
    "#10 #Definition of Performance Improvement Plan (PIP) - Gartner Human Resources Glossary."
   ]
  },
  {
   "cell_type": "code",
   "execution_count": 33,
   "id": "65ab929a-5eea-462c-ad79-9814d4994a12",
   "metadata": {},
   "outputs": [],
   "source": [
    "#11 #dict(),float(),int(),input(),list(),len(),etc"
   ]
  },
  {
   "cell_type": "code",
   "execution_count": 34,
   "id": "9f6e8a4c-344c-4a88-b933-d0b46519e3b6",
   "metadata": {},
   "outputs": [],
   "source": [
    "#12 #79 characters\n",
    "#Answer: An identifier can have a maximum length of 79 characters in Python. Python is one of the most popular programming languages. Guido van Rossum created it, and it was released in 1991."
   ]
  },
  {
   "cell_type": "code",
   "execution_count": 16,
   "id": "d7c76059-c9d2-4d68-9b04-2a109043cabd",
   "metadata": {},
   "outputs": [
    {
     "data": {
      "text/plain": [
       "'Advantages of Python\\nSimple to Use and Understand. For newcomers, Python is simple to understand and use. ...\\nFree and Open-Source. Video Player is loading. ...\\nProductivity has Increased. ...\\nInterpreted Language. ...\\nExtensive library. ...\\nDynamically Typed. ...\\nPortability. ...\\nSupportive community'"
      ]
     },
     "execution_count": 16,
     "metadata": {},
     "output_type": "execute_result"
    }
   ],
   "source": [
    "'''#13 Advantages of Python\n",
    "Simple to Use and Understand. For newcomers, Python is simple to understand and use. ...\n",
    "Free and Open-Source. Video Player is loading. ...\n",
    "Productivity has Increased. ...\n",
    "Interpreted Language. ...\n",
    "Extensive library. ...\n",
    "Dynamically Typed. ...\n",
    "Portability. ...\n",
    "Supportive community'''"
   ]
  },
  {
   "cell_type": "code",
   "execution_count": 35,
   "id": "b293ba9c-db19-4853-aa82-2d2b905b28ec",
   "metadata": {},
   "outputs": [],
   "source": [
    "#14 #, Python uses the dynamic memory allocation which is managed by the Heap data structure. Memory Heap holds the objects and other data structures that will be used in the program. Python memory manager manages the allocation or de-allocation of the heap memory space through the API functions."
   ]
  },
  {
   "cell_type": "code",
   "execution_count": 36,
   "id": "4eec9f1f-d931-44f7-a7f6-c04bbdcd8073",
   "metadata": {},
   "outputs": [
    {
     "data": {
      "text/plain": [
       "'The complete path of python.exe can be added by:\\n\\nRight-clicking This PC and going to Properties.\\n\\nClicking on the Advanced system settings in the menu on the left.\\n\\nClicking on the Environment Variables button o\\u200bn the bottom right.\\n\\nIn the System variables section, selecting the Path variable and clicking on Edit. The next screen will show all the directories that are currently a part of the PATH variable.\\n\\nClicking on New and entering Python’s install directory.'"
      ]
     },
     "execution_count": 36,
     "metadata": {},
     "output_type": "execute_result"
    }
   ],
   "source": [
    "'''#15 ''we can download python directly from the website python.com'''\n",
    "'''The complete path of python.exe can be added by:\n",
    "\n",
    "Right-clicking This PC and going to Properties.\n",
    "\n",
    "Clicking on the Advanced system settings in the menu on the left.\n",
    "\n",
    "Clicking on the Environment Variables button o​n the bottom right.\n",
    "\n",
    "In the System variables section, selecting the Path variable and clicking on Edit. The next screen will show all the directories that are currently a part of the PATH variable.\n",
    "\n",
    "Clicking on New and entering Python’s install directory.'''\n",
    "\n"
   ]
  },
  {
   "cell_type": "code",
   "execution_count": 37,
   "id": "ce497a78-a503-44b6-aebe-931b069d52f5",
   "metadata": {},
   "outputs": [],
   "source": [
    "#16 #Indentation is important to Python, because it's how you determine scope. Scope is how Python knows what code belongs to what part of the program."
   ]
  }
 ],
 "metadata": {
  "kernelspec": {
   "display_name": "Python 3 (ipykernel)",
   "language": "python",
   "name": "python3"
  },
  "language_info": {
   "codemirror_mode": {
    "name": "ipython",
    "version": 3
   },
   "file_extension": ".py",
   "mimetype": "text/x-python",
   "name": "python",
   "nbconvert_exporter": "python",
   "pygments_lexer": "ipython3",
   "version": "3.10.8"
  }
 },
 "nbformat": 4,
 "nbformat_minor": 5
}
